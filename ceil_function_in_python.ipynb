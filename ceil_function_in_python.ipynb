{
 "cells": [
  {
   "cell_type": "code",
   "execution_count": 1,
   "metadata": {},
   "outputs": [
    {
     "name": "stdout",
     "output_type": "stream",
     "text": [
      "2\n",
      "8\n",
      "12\n",
      "6\n",
      "9\n"
     ]
    }
   ],
   "source": [
    "def to_ceil(number):\n",
    "    # convert to string\n",
    "    number = str(number)\n",
    "    \n",
    "    # taking decimal part only\n",
    "    temp = number.split('.')\n",
    "    decimal_part = '0.'+temp[1]\n",
    "\n",
    "    # convert to float\n",
    "    decimal_part = float(decimal_part)\n",
    "\n",
    "    # find how much to add to get ceil\n",
    "    to_add = float(1-decimal_part)\n",
    "\n",
    "    # add to original number\n",
    "    result = int(float(number) + to_add)\n",
    "\n",
    "    # return\n",
    "    return result\n",
    "\n",
    "# testing\n",
    "print(to_ceil(1.2))\n",
    "print(to_ceil(7.1))\n",
    "print(to_ceil(11.48))\n",
    "print(to_ceil(5.5))\n",
    "print(to_ceil(8.7))"
   ]
  },
  {
   "cell_type": "code",
   "execution_count": null,
   "metadata": {},
   "outputs": [],
   "source": []
  }
 ],
 "metadata": {
  "kernelspec": {
   "display_name": "Python 3",
   "language": "python",
   "name": "python3"
  },
  "language_info": {
   "codemirror_mode": {
    "name": "ipython",
    "version": 3
   },
   "file_extension": ".py",
   "mimetype": "text/x-python",
   "name": "python",
   "nbconvert_exporter": "python",
   "pygments_lexer": "ipython3",
   "version": "3.7.4"
  }
 },
 "nbformat": 4,
 "nbformat_minor": 2
}
